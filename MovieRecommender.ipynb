{
 "cells": [
  {
   "cell_type": "code",
   "execution_count": 57,
   "metadata": {},
   "outputs": [],
   "source": [
    "import pandas as pd\n",
    "import os\n",
    "import json\n",
    "import time\n",
    "from tqdm import tqdm\n",
    "from dotenv import load_dotenv\n",
    "from openai import AzureOpenAI"
   ]
  },
  {
   "cell_type": "code",
   "execution_count": 58,
   "metadata": {},
   "outputs": [],
   "source": [
    "load_dotenv()\n",
    "AZURE_OPENAI_API_KEY=os.getenv(\"AZURE_OPENAI_API_KEY\")\n",
    "AZURE_OPENAI_ENDPOINT=os.getenv(\"AZURE_OPENAI_ENDPOINT\")\n",
    "AZURE_OPENAI_API_VERSION=\"2023-05-15\""
   ]
  },
  {
   "cell_type": "code",
   "execution_count": 59,
   "metadata": {},
   "outputs": [],
   "source": [
    "client = AzureOpenAI(\n",
    "    azure_endpoint=os.getenv(\"AZURE_OPENAI_ENDPOINT\"), \n",
    "    api_key=os.getenv(\"AZURE_OPENAI_API_KEY\"), \n",
    "    api_version=\"2024-08-01-preview\",\n",
    ")"
   ]
  },
  {
   "cell_type": "code",
   "execution_count": 60,
   "metadata": {},
   "outputs": [],
   "source": [
    "def get_user_prompt(text,genres,movie_data):\n",
    "    \n",
    "    #Function to Generate the Full User Prompt\n",
    "    \n",
    "    prompt = f'''\n",
    "    This is a input provided by a user related to a movie genre.\n",
    "    \n",
    "    **Input Text**\n",
    "    \"{text}\"\n",
    "\n",
    "    This input is related to a movie genre. Your task is to analyze it and provide a response in the following JSON format:\n",
    "    \n",
    "    ```json\n",
    "    {{\n",
    "        \"Movies\": \"One or more movie genre that best fits the user input(Limit it to a maximum of 5 movies)\",\n",
    "        \"Genre\": \"List of comma separated genres that best fit the user input\"\n",
    "    }}\n",
    "    ```\n",
    "    \n",
    "    **The different movie genres could be one from the following list:**\n",
    "    - {genres}\n",
    "    \n",
    "    **The different list of movies and their respective genre are:**\n",
    "    - {movie_data}\n",
    "\n",
    "    '''\n",
    "\n",
    "    return prompt"
   ]
  },
  {
   "cell_type": "code",
   "execution_count": 61,
   "metadata": {},
   "outputs": [],
   "source": [
    "def model_response(sys_prompt,user_prompt):\n",
    "    \n",
    "    #Function to Generate  User Response using OPENAI\n",
    "    \n",
    "    response = client.chat.completions.create(\n",
    "    model=\"gpt-35-turbo-16k\",\n",
    "    messages=[\n",
    "        {\"role\": \"system\", \"content\": sys_prompt},\n",
    "        {\"role\": \"user\", \"content\": user_prompt}\n",
    "    ])\n",
    "    return json.loads(response.choices[0].message.content)"
   ]
  },
  {
   "cell_type": "code",
   "execution_count": 62,
   "metadata": {},
   "outputs": [],
   "source": [
    "def refresh_conversation(chat):\n",
    "    \n",
    "    # Function to Provide User Response\n",
    "    \n",
    "    movies_df = pd.read_csv(\"movies.csv\")\n",
    "    movies_df.head(10)\n",
    "    genres= list()\n",
    "    for i in movies_df['genres']:\n",
    "        for j in i.split('|'):\n",
    "            if j not in genres:\n",
    "                genres.append(j)\n",
    "    with open(\"movies.csv\") as file:\n",
    "        movie_data = file.read()\n",
    "        \n",
    "    sys_prompt = '''\n",
    "    You are a helpful movie recommendation assistant that helps in identifying the genre of movies that best fits the user input, \n",
    "    and suggest one or more movies that the user would enjoy watching.\n",
    "    '''    \n",
    "    user_prompt = get_user_prompt(chat,genres,movie_data)\n",
    "    response = model_response(sys_prompt,user_prompt)\n",
    "    movies=response['Movies']\n",
    "    genres_movie=response['Genre']\n",
    "    print(f\"Movie Recommendations : {movies} \\nGenre of Interest: {genres_movie}\")"
   ]
  },
  {
   "cell_type": "code",
   "execution_count": 63,
   "metadata": {},
   "outputs": [
    {
     "name": "stdout",
     "output_type": "stream",
     "text": [
      "Movie Recommendations : Guardians of the Galaxy, Star Trek: Into Darkness, Deadpool 2 \n",
      "Genre of Interest: Action, Comedy, Sci-Fi\n"
     ]
    }
   ],
   "source": [
    "def main():\n",
    "    while True:\n",
    "        #Take in User Input\n",
    "        message = input(\"Please enter a message (or 'exit' to leave): \")\n",
    "        # closing the chatbot.\n",
    "        if message.lower() == 'exit':\n",
    "            break  \n",
    "        # Continue the conversation with the new message(if the message is not exit)\n",
    "        refresh_conversation(message)\n",
    "\n",
    "\n",
    "if __name__ == '__main__':\n",
    "    main()"
   ]
  }
 ],
 "metadata": {
  "kernelspec": {
   "display_name": "Python 3",
   "language": "python",
   "name": "python3"
  },
  "language_info": {
   "codemirror_mode": {
    "name": "ipython",
    "version": 3
   },
   "file_extension": ".py",
   "mimetype": "text/x-python",
   "name": "python",
   "nbconvert_exporter": "python",
   "pygments_lexer": "ipython3",
   "version": "3.9.6"
  }
 },
 "nbformat": 4,
 "nbformat_minor": 2
}
